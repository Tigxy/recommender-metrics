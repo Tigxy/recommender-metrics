{
 "cells": [
  {
   "cell_type": "code",
   "execution_count": 1,
   "id": "a15df981",
   "metadata": {},
   "outputs": [],
   "source": [
    "import torch\n",
    "import numpy as np\n",
    "\n",
    "from rmet import UserFeature, calculate, calculate_for_feature, supported_metrics"
   ]
  },
  {
   "cell_type": "code",
   "execution_count": 2,
   "id": "0e5f1063",
   "metadata": {},
   "outputs": [
    {
     "data": {
      "text/plain": [
       "tensor([[0.4322, 0.5756, 0.1609, 0.9350, 0.5936, 0.7876, 0.2381, 0.8626],\n",
       "        [0.8088, 0.4789, 0.4380, 0.6554, 0.8882, 0.7177, 0.6463, 0.2631],\n",
       "        [0.0753, 0.4316, 0.4902, 0.1745, 0.7160, 0.1010, 0.5584, 0.9956],\n",
       "        [0.3724, 0.6616, 0.9082, 0.7028, 0.5365, 0.6317, 0.1798, 0.5361],\n",
       "        [0.8680, 0.7420, 0.3787, 0.0937, 0.4253, 0.5862, 0.7641, 0.8692],\n",
       "        [0.3562, 0.1426, 0.0758, 0.1724, 0.3121, 0.5817, 0.3490, 0.0354]],\n",
       "       dtype=torch.float64)"
      ]
     },
     "metadata": {},
     "output_type": "display_data"
    },
    {
     "data": {
      "text/plain": [
       "tensor([[0, 0, 0, 0, 1, 0, 0, 0],\n",
       "        [0, 1, 0, 1, 0, 0, 0, 1],\n",
       "        [0, 1, 0, 0, 0, 1, 1, 0],\n",
       "        [1, 0, 1, 0, 0, 1, 1, 1],\n",
       "        [1, 1, 0, 1, 1, 1, 1, 1],\n",
       "        [1, 1, 1, 0, 1, 0, 0, 1]], dtype=torch.int32)"
      ]
     },
     "metadata": {},
     "output_type": "display_data"
    }
   ],
   "source": [
    "# create some dummy data\n",
    "n_users = 6\n",
    "n_items = 8\n",
    "\n",
    "logits = torch.tensor(np.random.random((n_users, n_items)))\n",
    "display(logits)\n",
    "\n",
    "targets = torch.tensor(np.random.randint(0, 2, (n_users, n_items)))\n",
    "display(targets)"
   ]
  },
  {
   "cell_type": "code",
   "execution_count": 3,
   "id": "fc7bb4d1",
   "metadata": {},
   "outputs": [
    {
     "data": {
      "text/plain": [
       "{'coverage_k': 1.0,\n",
       " 'dcg': tensor([0.4307, 0.4307, 0.5000, 1.4307, 2.5616, 1.0616]),\n",
       " 'ndcg': tensor([0.1681, 0.1681, 0.1952, 0.5585, 1.0000, 0.4144]),\n",
       " 'recall_k': tensor([1.0000, 0.3333, 0.3333, 0.4000, 0.5714, 0.4000]),\n",
       " 'precision_k': tensor([0.2500, 0.2500, 0.2500, 0.5000, 1.0000, 0.5000]),\n",
       " 'hitrate_k': tensor([1.0000, 0.3333, 0.3333, 0.5000, 1.0000, 0.5000]),\n",
       " 'f_score_k': tensor([0.4000, 0.2857, 0.2857, 0.4444, 0.7273, 0.4444])}"
      ]
     },
     "execution_count": 3,
     "metadata": {},
     "output_type": "execute_result"
    }
   ],
   "source": [
    "calculate(supported_metrics, logits, targets, k=4)"
   ]
  },
  {
   "cell_type": "code",
   "execution_count": 4,
   "id": "2d61d7cd",
   "metadata": {},
   "outputs": [
    {
     "data": {
      "text/plain": [
       "{'gender_m': {'coverage_k': 0.875,\n",
       "  'dcg': tensor([0.4307, 0.4307, 2.5616]),\n",
       "  'ndcg': tensor([0.1681, 0.1681, 1.0000]),\n",
       "  'recall_k': tensor([1.0000, 0.3333, 0.5714]),\n",
       "  'precision_k': tensor([0.2500, 0.2500, 1.0000]),\n",
       "  'hitrate_k': tensor([1.0000, 0.3333, 1.0000]),\n",
       "  'f_score_k': tensor([0.4000, 0.2857, 0.7273])},\n",
       " 'gender_f': {'coverage_k': 0.5,\n",
       "  'dcg': tensor([0.5000]),\n",
       "  'ndcg': tensor([0.1952]),\n",
       "  'recall_k': tensor([0.3333]),\n",
       "  'precision_k': tensor([0.2500]),\n",
       "  'hitrate_k': tensor([0.3333]),\n",
       "  'f_score_k': tensor([0.2857])},\n",
       " 'gender_d': {'coverage_k': 0.875,\n",
       "  'dcg': tensor([1.4307, 1.0616]),\n",
       "  'ndcg': tensor([0.5585, 0.4144]),\n",
       "  'recall_k': tensor([0.4000, 0.4000]),\n",
       "  'precision_k': tensor([0.5000, 0.5000]),\n",
       "  'hitrate_k': tensor([0.5000, 0.5000]),\n",
       "  'f_score_k': tensor([0.4444, 0.4444])},\n",
       " 'gender_f-d': {'coverage_k': -0.375,\n",
       "  'dcg': -0.7461414337158203,\n",
       "  'ndcg': -0.2912787199020386,\n",
       "  'recall_k': -0.06666666269302368,\n",
       "  'precision_k': -0.25,\n",
       "  'hitrate_k': -0.1666666567325592,\n",
       "  'f_score_k': -0.15873020887374878},\n",
       " 'gender_f-m': {'coverage_k': -0.375,\n",
       "  'dcg': -0.6409865617752075,\n",
       "  'ndcg': -0.2502283453941345,\n",
       "  'recall_k': -0.30158731341362,\n",
       "  'precision_k': -0.25,\n",
       "  'hitrate_k': -0.4444445073604584,\n",
       "  'f_score_k': -0.1852813959121704},\n",
       " 'gender_d-m': {'coverage_k': 0.0,\n",
       "  'dcg': 0.10515487194061279,\n",
       "  'ndcg': 0.04105037450790405,\n",
       "  'recall_k': -0.2349206507205963,\n",
       "  'precision_k': 0.0,\n",
       "  'hitrate_k': -0.27777785062789917,\n",
       "  'f_score_k': -0.02655118703842163}}"
      ]
     },
     "execution_count": 4,
     "metadata": {},
     "output_type": "execute_result"
    }
   ],
   "source": [
    "ug_gender = UserFeature(\"gender\", [\"m\", \"m\", \"f\", \"d\", \"m\", \"d\"])\n",
    "calculate_for_feature(ug_gender, supported_metrics, logits, targets, k=4)"
   ]
  },
  {
   "cell_type": "code",
   "execution_count": null,
   "id": "f7481872",
   "metadata": {},
   "outputs": [],
   "source": []
  }
 ],
 "metadata": {
  "kernelspec": {
   "display_name": "Python 3 (ipykernel)",
   "language": "python",
   "name": "python3"
  },
  "language_info": {
   "codemirror_mode": {
    "name": "ipython",
    "version": 3
   },
   "file_extension": ".py",
   "mimetype": "text/x-python",
   "name": "python",
   "nbconvert_exporter": "python",
   "pygments_lexer": "ipython3",
   "version": "3.8.10"
  }
 },
 "nbformat": 4,
 "nbformat_minor": 5
}
